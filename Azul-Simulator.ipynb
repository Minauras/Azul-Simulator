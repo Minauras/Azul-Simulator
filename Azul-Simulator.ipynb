{
 "cells": [
  {
   "cell_type": "markdown",
   "metadata": {},
   "source": [
    "# Azul Simulator\n",
    "A simulator for the \"Factory Offer\" Phase of the board game Azul.\n",
    "The goal of this notebook is to analyze the strength of the first player token.\n",
    "The complete rules of the games are available [here](https://www.planbgames.com/en/index.php?controller=attachment&id_attachment=9)"
   ]
  },
  {
   "cell_type": "markdown",
   "metadata": {},
   "source": [
    "## Game basics\n",
    "\n",
    "In Azul, factories hold tiles for the players to gather, turn by turn.\n",
    "\n",
    "<img src=\"factories.png\" alt=\"factories\" style=\"width: 400px;\"/>\n",
    "The circle are the factories, and at the beginning of each round, each factory gets filled with four tiles randomly drawn from a bag. There are 5 factories for a 2-player game, 7 for a 3-player game, and 9 for a 4-player game.\n",
    "\n",
    "During the Factory Offer Phase, players can gather tiles from the factories by either:\n",
    "- Designating a factory, choosing a color, and taking ALL the tiles from that color, and putting the other tiles from that factory at the center of the table, leaving the designated factory empty;\n",
    "- choosing a color, and taking ALL tiles from that color from the center of the table.\n",
    "The Factory Offer Phase ends when all tiles have been gathered from all factories and from the center of the table.\n",
    "\n",
    "There is also a first-player token which is given to the first player from the round to choose tiles from the center of the table, against a small penalty of 1 point.\n",
    "\n",
    "**One interesting aspect of the game is that the number of turns players will take to finish the Factory Offer phase depends on the initial distribution of the tiles in the factories, and also on the strategy of the players, and it is thus not possible to know when the Factory Offer Phase will end when it begins.**"
   ]
  },
  {
   "cell_type": "code",
   "execution_count": 1,
   "metadata": {},
   "outputs": [],
   "source": [
    "import random\n",
    "import matplotlib.pyplot as plt"
   ]
  },
  {
   "cell_type": "markdown",
   "metadata": {},
   "source": [
    "## Constants"
   ]
  },
  {
   "cell_type": "markdown",
   "metadata": {},
   "source": [
    "### Tiles"
   ]
  },
  {
   "cell_type": "code",
   "execution_count": 2,
   "metadata": {},
   "outputs": [],
   "source": [
    "colors = ['blue', 'red', 'yellow', 'black', 'white']\n",
    "nb_colors = len(colors)"
   ]
  },
  {
   "cell_type": "markdown",
   "metadata": {},
   "source": [
    "### Factories"
   ]
  },
  {
   "cell_type": "code",
   "execution_count": 3,
   "metadata": {},
   "outputs": [],
   "source": [
    "# factories will each be a dictionary of the same format as the bag, in a list of factories, they start empty\n",
    "nb_factories = 5 \n",
    "tiles_per_factory = 4 #limit"
   ]
  },
  {
   "cell_type": "markdown",
   "metadata": {},
   "source": [
    "## Functions"
   ]
  },
  {
   "cell_type": "markdown",
   "metadata": {},
   "source": [
    "### Reset state"
   ]
  },
  {
   "cell_type": "code",
   "execution_count": 4,
   "metadata": {},
   "outputs": [],
   "source": [
    "def reset_state():\n",
    "    ########################### Tiles ##########################\n",
    "    tiles_distribution = [20, 20, 20, 20, 20] #initial\n",
    "    \n",
    "    \n",
    "    ############################ Bag ###########################\n",
    "    # bag will be represented by a dictionary with one column for the color\n",
    "    # and another for the quantity of that color in the bag\n",
    "    # the bag starts full\n",
    "    bag = dict(zip(colors, tiles_distribution))\n",
    "    \n",
    "    \n",
    "    ######################### Factories ########################\n",
    "    # factories will each be a dictionary of the same format as the bag, in a list of factories, they start empty\n",
    "    factories = [dict(zip(colors, [0]*nb_colors)) for i in range(nb_factories)]\n",
    "    \n",
    "    \n",
    "    ########################### Table ##########################\n",
    "    # center of table is the same dictionary format as above, starts empty\n",
    "    table = dict(zip(colors, [0]*nb_colors))\n",
    "    \n",
    "    return bag, factories, table"
   ]
  },
  {
   "cell_type": "code",
   "execution_count": 5,
   "metadata": {},
   "outputs": [],
   "source": [
    "bag, factories, table = reset_state()"
   ]
  },
  {
   "cell_type": "code",
   "execution_count": null,
   "metadata": {},
   "outputs": [],
   "source": []
  }
 ],
 "metadata": {
  "kernelspec": {
   "display_name": "Python 3",
   "language": "python",
   "name": "python3"
  },
  "language_info": {
   "codemirror_mode": {
    "name": "ipython",
    "version": 3
   },
   "file_extension": ".py",
   "mimetype": "text/x-python",
   "name": "python",
   "nbconvert_exporter": "python",
   "pygments_lexer": "ipython3",
   "version": "3.8.5"
  }
 },
 "nbformat": 4,
 "nbformat_minor": 4
}
